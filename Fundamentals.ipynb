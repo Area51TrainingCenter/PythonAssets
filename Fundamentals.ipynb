{
 "cells": [
  {
   "cell_type": "markdown",
   "metadata": {},
   "source": [
    "# Fundamentos de programación con Python #"
   ]
  },
  {
   "cell_type": "markdown",
   "metadata": {},
   "source": [
    "## Variables ##"
   ]
  },
  {
   "cell_type": "markdown",
   "metadata": {},
   "source": [
    "Una variable es un espacio de memoria que se destina para guardar datos. Debe tener nombre y tipo de dato.\n",
    "\n",
    "Asignamos valor a una variable:"
   ]
  },
  {
   "cell_type": "code",
   "execution_count": null,
   "metadata": {},
   "outputs": [],
   "source": [
    "variable = 3"
   ]
  },
  {
   "cell_type": "markdown",
   "metadata": {},
   "source": [
    "Veamos su contenido y tipo:"
   ]
  },
  {
   "cell_type": "code",
   "execution_count": null,
   "metadata": {
    "scrolled": true
   },
   "outputs": [],
   "source": [
    "print('contenido:', variable)\n",
    "print('tipo:     ', type(variable))"
   ]
  },
  {
   "cell_type": "markdown",
   "metadata": {},
   "source": [
    "### Tipos de datos ###\n",
    "\n",
    "Python soportan varios tipos de datos básicos.\n",
    "\n",
    "#### Entero (int) ####"
   ]
  },
  {
   "cell_type": "code",
   "execution_count": null,
   "metadata": {},
   "outputs": [],
   "source": [
    "entero = 5\n",
    "print(entero, type(entero))"
   ]
  },
  {
   "cell_type": "markdown",
   "metadata": {},
   "source": [
    "#### Flotante (float) ####"
   ]
  },
  {
   "cell_type": "code",
   "execution_count": null,
   "metadata": {},
   "outputs": [],
   "source": [
    "flotante = 0.001\n",
    "print(flotante, type(flotante))"
   ]
  },
  {
   "cell_type": "code",
   "execution_count": null,
   "metadata": {},
   "outputs": [],
   "source": [
    "flotante_formato_cientifico = 1e-3\n",
    "print(flotante_formato_cientifico, type(flotante_formato_cientifico))"
   ]
  },
  {
   "cell_type": "markdown",
   "metadata": {},
   "source": [
    "Existen otros tipos numéricos como *Decimal*, *Fraction* y *Complex*.\n",
    "\n",
    "[Más allá de los flotantes](http://docs.python.org.ar/tutorial/3/floatingpoint.html)\n",
    "\n",
    "[Tipo Decimal](https://docs.python.org/3.6/library/decimal.html?highlight=decimal#module-decimal)\n",
    "\n",
    "[Tipo Fraction](https://docs.python.org/3.6/library/fractions.html?highlight=fraction#module-fractions)\n",
    "\n",
    "[Números complejos](https://relopezbriega.github.io/blog/2015/10/12/numeros-complejos-con-python/)\n"
   ]
  },
  {
   "cell_type": "markdown",
   "metadata": {},
   "source": [
    "#### Cadena de caracteres (str) ####"
   ]
  },
  {
   "cell_type": "code",
   "execution_count": null,
   "metadata": {},
   "outputs": [],
   "source": [
    "cadena = '¡Hola mundo!'\n",
    "print(cadena, type(cadena))"
   ]
  },
  {
   "cell_type": "markdown",
   "metadata": {},
   "source": [
    "Puedes usar también comillas dobles:"
   ]
  },
  {
   "cell_type": "code",
   "execution_count": null,
   "metadata": {},
   "outputs": [],
   "source": [
    "print(\"soy un cadena con comillas dobles\")"
   ]
  },
  {
   "cell_type": "markdown",
   "metadata": {},
   "source": [
    "Si quieres usar comillas dentro de una cadena:"
   ]
  },
  {
   "cell_type": "code",
   "execution_count": null,
   "metadata": {},
   "outputs": [],
   "source": [
    "print('tengo comillas \"dobles\" dentro')"
   ]
  },
  {
   "cell_type": "markdown",
   "metadata": {},
   "source": [
    "Puedes usar el caracter `\\` para usar caracteres especiales:"
   ]
  },
  {
   "cell_type": "code",
   "execution_count": null,
   "metadata": {},
   "outputs": [],
   "source": [
    "cadena = '¡Hola\\tmundo!'\n",
    "print(cadena, type(cadena))"
   ]
  },
  {
   "cell_type": "markdown",
   "metadata": {},
   "source": [
    "Y si queremos usar una cadena sin interpretar caracteres especiales:"
   ]
  },
  {
   "cell_type": "code",
   "execution_count": null,
   "metadata": {},
   "outputs": [],
   "source": [
    "cadena_plana = r'¡Hola\\tmundo!'\n",
    "print(cadena_plana, type(cadena_plana))"
   ]
  },
  {
   "cell_type": "markdown",
   "metadata": {},
   "source": [
    "#### Boleano (bool) ####"
   ]
  },
  {
   "cell_type": "code",
   "execution_count": null,
   "metadata": {},
   "outputs": [],
   "source": [
    "boleano = True\n",
    "print(boleano, type(boleano))"
   ]
  },
  {
   "cell_type": "markdown",
   "metadata": {},
   "source": [
    "## Operadores ##"
   ]
  },
  {
   "cell_type": "markdown",
   "metadata": {},
   "source": [
    "### Aritméticos ###"
   ]
  },
  {
   "cell_type": "markdown",
   "metadata": {},
   "source": [
    "El lenguaje nos permite usar múltiples operadores aritméticos como: negación, suma, resta, producto, división, división entera y módulo. "
   ]
  },
  {
   "cell_type": "code",
   "execution_count": null,
   "metadata": {},
   "outputs": [],
   "source": [
    "negativo = -100\n",
    "print(negativo)"
   ]
  },
  {
   "cell_type": "code",
   "execution_count": null,
   "metadata": {},
   "outputs": [],
   "source": [
    "positivo = 100\n",
    "nulo = positivo + negativo\n",
    "print(nulo)"
   ]
  },
  {
   "cell_type": "code",
   "execution_count": null,
   "metadata": {},
   "outputs": [],
   "source": [
    "producto = positivo * nulo\n",
    "print(producto)"
   ]
  },
  {
   "cell_type": "code",
   "execution_count": null,
   "metadata": {},
   "outputs": [],
   "source": [
    "division = positivo / negativo\n",
    "print(division)"
   ]
  },
  {
   "cell_type": "code",
   "execution_count": null,
   "metadata": {},
   "outputs": [],
   "source": [
    "division_entera = positivo // negativo\n",
    "print(division_entera)"
   ]
  },
  {
   "cell_type": "code",
   "execution_count": null,
   "metadata": {},
   "outputs": [],
   "source": [
    "divisor = 3\n",
    "resto = positivo % divisor\n",
    "print(resto)"
   ]
  },
  {
   "cell_type": "markdown",
   "metadata": {},
   "source": [
    "### Lógicos ###"
   ]
  },
  {
   "cell_type": "markdown",
   "metadata": {},
   "source": [
    "Los operadores lógicos se aplican a valores booleanos (True o False) y retornan valores booleanos. En sus relaciones se cumplen las leyes de la lógica proposicional, de ahí su nombre. Los operadores lógicos que soporta Python son: "
   ]
  },
  {
   "cell_type": "code",
   "execution_count": null,
   "metadata": {},
   "outputs": [],
   "source": [
    "v = True\n",
    "f = False\n",
    "print(v, f)"
   ]
  },
  {
   "cell_type": "code",
   "execution_count": null,
   "metadata": {},
   "outputs": [],
   "source": [
    "print(v and f)\n",
    "print(v or f)\n",
    "print(not v)"
   ]
  },
  {
   "cell_type": "markdown",
   "metadata": {},
   "source": [
    "### De comparación ###"
   ]
  },
  {
   "cell_type": "markdown",
   "metadata": {},
   "source": [
    "Estos operadores nos permiten comparar valores del mismo tipo, devuelven valores tipo booleanos."
   ]
  },
  {
   "cell_type": "code",
   "execution_count": null,
   "metadata": {},
   "outputs": [],
   "source": [
    "mayor = 100\n",
    "menor = 50\n",
    "print(menor, mayor)"
   ]
  },
  {
   "cell_type": "code",
   "execution_count": null,
   "metadata": {},
   "outputs": [],
   "source": [
    "print(mayor > menor)\n",
    "print(mayor < menor)\n",
    "print(mayor == menor)\n",
    "print(mayor != menor)\n",
    "print(mayor >= menor)\n",
    "print(mayor <= menor)"
   ]
  },
  {
   "cell_type": "markdown",
   "metadata": {},
   "source": [
    "## Estructuras de flujo de control ##"
   ]
  },
  {
   "cell_type": "markdown",
   "metadata": {},
   "source": [
    "### Estructuras secuenciales ###"
   ]
  },
  {
   "cell_type": "code",
   "execution_count": null,
   "metadata": {},
   "outputs": [],
   "source": [
    "a = 5\n",
    "b = 10\n",
    "a = 'cinco'\n",
    "print(b)\n",
    "print(a)"
   ]
  },
  {
   "cell_type": "markdown",
   "metadata": {},
   "source": [
    "### Estructuras selectivas ###"
   ]
  },
  {
   "cell_type": "code",
   "execution_count": null,
   "metadata": {},
   "outputs": [],
   "source": [
    "edad = int(input())\n",
    "if edad >= 18:\n",
    "    print('Eres mayor de edad')\n"
   ]
  },
  {
   "cell_type": "code",
   "execution_count": null,
   "metadata": {},
   "outputs": [],
   "source": [
    "edad = int(input(\"Ingresa tu edad: \"))\n",
    "if edad >= 18:\n",
    "    print('Eres mayor de edad')\n",
    "else:\n",
    "    print('Eres menor de edad')"
   ]
  },
  {
   "cell_type": "code",
   "execution_count": null,
   "metadata": {},
   "outputs": [],
   "source": [
    "edad = int(input(\"Ingresa tu edad: \"))\n",
    "if edad < 0:\n",
    "    print(\"No se puede tener una edad negativa\")\n",
    "else:\n",
    "    if edad >= 0 and edad < 18:\n",
    "        print(\"Eres menor de edad\")\n",
    "    else:\n",
    "        print(\"Eres mayor de edad\")"
   ]
  },
  {
   "cell_type": "code",
   "execution_count": null,
   "metadata": {},
   "outputs": [],
   "source": [
    "edad = int(input(\"Ingresa tu edad: \"))\n",
    "if edad < 0:\n",
    "    print(\"No se puede tener una edad negativa\")\n",
    "elif edad >= 0 and edad < 18:\n",
    "    print(\"Eres menor de edad\")\n",
    "else:\n",
    "    print(\"Eres mayor de edad\")"
   ]
  },
  {
   "cell_type": "code",
   "execution_count": null,
   "metadata": {},
   "outputs": [],
   "source": [
    "edad = int(input(\"Ingresa tu edad: \"))\n",
    "if edad < 0:\n",
    "    print(\"No se puede tener una edad negativa\")\n",
    "elif edad < 18:\n",
    "    print(\"Eres menor de edad\")\n",
    "else:\n",
    "    print(\"Eres mayor de edad\")"
   ]
  },
  {
   "cell_type": "markdown",
   "metadata": {},
   "source": [
    "Al hacer esta simplificación debes tener cuidado con el orden de las condiciones, esto es una muestra de la importancia de tener claro la secuencialidad en programación."
   ]
  },
  {
   "cell_type": "code",
   "execution_count": null,
   "metadata": {},
   "outputs": [],
   "source": [
    "edad = int(input(\"Ingresa tu edad: \"))\n",
    "if edad < 18:\n",
    "    print(\"Eres menor de edad\")\n",
    "elif edad < 0:\n",
    "    print(\"No se puede tener una edad negativa\")\n",
    "else:\n",
    "    print(\"Eres mayor de edad\")"
   ]
  },
  {
   "cell_type": "markdown",
   "metadata": {},
   "source": [
    "### Estructuras repetitivas ###"
   ]
  },
  {
   "cell_type": "code",
   "execution_count": null,
   "metadata": {},
   "outputs": [],
   "source": [
    "for i in range(11):\n",
    "    print(i, end = ' ')"
   ]
  },
  {
   "cell_type": "code",
   "execution_count": null,
   "metadata": {},
   "outputs": [],
   "source": [
    "suma = 0\n",
    "for i in range(2, 11):\n",
    "    suma += i\n",
    "print(suma)"
   ]
  },
  {
   "cell_type": "code",
   "execution_count": null,
   "metadata": {},
   "outputs": [],
   "source": [
    "limit = 10\n",
    "while limit > 0:\n",
    "    print(limit, end = ' ')\n",
    "    limit -= 1"
   ]
  },
  {
   "cell_type": "code",
   "execution_count": null,
   "metadata": {},
   "outputs": [],
   "source": [
    "top = 50\n",
    "while True:\n",
    "    if top > 100:\n",
    "        break\n",
    "    top += 1\n",
    "print(top)"
   ]
  }
 ],
 "metadata": {
  "kernelspec": {
   "display_name": "Python 3",
   "language": "python",
   "name": "python3"
  },
  "language_info": {
   "codemirror_mode": {
    "name": "ipython",
    "version": 3
   },
   "file_extension": ".py",
   "mimetype": "text/x-python",
   "name": "python",
   "nbconvert_exporter": "python",
   "pygments_lexer": "ipython3",
   "version": "3.6.5"
  }
 },
 "nbformat": 4,
 "nbformat_minor": 2
}
